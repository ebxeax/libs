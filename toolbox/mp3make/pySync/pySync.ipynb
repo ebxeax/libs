{
 "cells": [
  {
   "cell_type": "code",
   "execution_count": 1,
   "metadata": {},
   "outputs": [],
   "source": [
    "import os"
   ]
  },
  {
   "cell_type": "code",
   "execution_count": 6,
   "metadata": {},
   "outputs": [],
   "source": [
    "def load(path):\n",
    "    if path.split(\".\")[len(path.split(\".\"))-1]==\"lrc\":\n",
    "        hh_list = []\n",
    "        mm_list = []\n",
    "        ss_list = []\n",
    "        mms_list = []\n",
    "        content_list = []\n",
    "        file = open(path,\"r\",encoding=\"utf-8\")\n",
    "        sub = file.readlines()\n",
    "        sub[0]=sub[0][1:len(sub[0])+1]\n",
    "        file.close()\n",
    "        for n in sub:\n",
    "            n = n.strip(\" \")\n",
    "            n = n.strip(\"[\")\n",
    "            content = n.split(\"]\")[1]\n",
    "            time = n.split(\"]\")[0]\n",
    "            hh_list.append(str(int(time.split(':')[0])//60).rjust(2,'0'))\n",
    "            mm_list.append(str(int(time.split(':')[0])%60).rjust(2,'0'))\n",
    "            ss_list.append(str(time.split(':')[1].split('.')[0]).rjust(2,'0'))\n",
    "            mms_list.append(str(time.split(':')[1].split('.')[1]).ljust(3,'0'))\n",
    "            content_list.append(content)\n",
    "        finallist = [hh_list,mm_list,ss_list,mms_list,content_list]\n",
    "        return(finallist)\n",
    "    \n",
    "    if path.split(\".\")[len(path.split(\".\"))-1]==\"srt\":\n",
    "        hh_list = []\n",
    "        mm_list = []\n",
    "        ss_list = []\n",
    "        mms_list = []\n",
    "        content_list = []\n",
    "        file = open(path,\"r\",encoding=\"utf-8\")\n",
    "        sub = file.readlines()\n",
    "        sub[0]=str(0)\n",
    "        file.close()\n",
    "        a= 0\n",
    "        for n in sub:\n",
    "            n=n.strip('\\n')\n",
    "            if n.isdecimal() :\n",
    "                time = sub[int(a)+1].split(' --> ')[0]\n",
    "                hh = str((time.split(':')[0]))\n",
    "                mm = str((time.split(':')[1]))\n",
    "                ss = str(time.split(',')[0].split(':')[2])\n",
    "                mms =  str(time.split(',')[1])\n",
    "                content = sub[a+2]\n",
    "                hh_list.append(hh)\n",
    "                mm_list.append(mm)\n",
    "                ss_list.append(ss)\n",
    "                mms_list.append(mms)\n",
    "                content_list.append(content)\n",
    "            a = a+1\n",
    "    finallist = [hh_list,mm_list,ss_list,mms_list,content_list]\n",
    "    return(finallist)\n",
    "\n",
    "\n",
    "def convert(data,path):\n",
    "    if path.split(\".\")[len(path.split(\".\"))-1]==\"txt\":\n",
    "        content_list = data[4]\n",
    "        file = open(path,\"w\",encoding=\"utf-8\")\n",
    "        for a in content_list:\n",
    "            file.write(a)\n",
    "        file.close()\n",
    "     \n",
    "    if path.split(\".\")[len(path.split(\".\"))-1]==\"lrc\":\n",
    "        hh_list = data[0]\n",
    "        mm_list = data[1]\n",
    "        ss_list = data[2]\n",
    "        mms_list = data[3]\n",
    "        content_list = data[4]\n",
    "        file = open(path,\"w\",encoding=\"utf-8\")\n",
    "        for a in range(len(mm_list)):\n",
    "            file.write('['+mm_list[a]+':'+ss_list[a]+'.'+mms_list[a]+']'+content_list[a])\n",
    "        file.close()\n",
    "            \n",
    "    if path.split(\".\")[len(path.split(\".\"))-1]==\"srt\":\n",
    "        hh_list = data[0]\n",
    "        mm_list = data[1]\n",
    "        ss_list = data[2]\n",
    "        mms_list = data[3]\n",
    "        content_list = data[4]\n",
    "        file = open(path,\"w\",encoding=\"utf-8\")\n",
    "        hh_list.append(hh_list[len(hh_list)-1])\n",
    "        mm_list.append(mm_list[len(mm_list)-1])\n",
    "        ss_list.append(int(ss_list[len(ss_list)-1])+5)\n",
    "        mms_list.append(mms_list[len(mms_list)-1])\n",
    "        for a in range(len(hh_list)-1):\n",
    "            file.write(str(a)+'\\n')\n",
    "            file.write(str(hh_list[a])+':'+str(mm_list[a])+':'+str(ss_list[a])+','\n",
    "                       +str(mms_list[a])+\" --> \"+str(hh_list[a+1])+':'+str(mm_list[a+1])\n",
    "                       +':'+str(ss_list[a+1])+','+str(mms_list[a+1])+'\\n')\n",
    "            file.write(content_list[a]+'\\n')\n",
    "        file.close()"
   ]
  },
  {
   "cell_type": "code",
   "execution_count": 6,
   "metadata": {},
   "outputs": [],
   "source": [
    "sub = load(\"../src/谭咏麟合集.srt\")  \n",
    "convert(sub,\"../out/谭咏麟合集.lrc\")"
   ]
  },
  {
   "cell_type": "code",
   "execution_count": 2,
   "metadata": {},
   "outputs": [],
   "source": [
    "src_base = \"../src/\"\n",
    "out_base = \"../out/\""
   ]
  },
  {
   "cell_type": "code",
   "execution_count": 3,
   "metadata": {},
   "outputs": [
    {
     "data": {
      "text/plain": [
       "['周杰伦合集.lrc',\n",
       " '周杰伦合集.mp3',\n",
       " '周杰伦合集.png',\n",
       " '张学友合集.lrc',\n",
       " '张学友合集.mp3',\n",
       " '张学友合集.png',\n",
       " '谭咏麟合集.lrc',\n",
       " '谭咏麟合集.mp3',\n",
       " '谭咏麟合集.png']"
      ]
     },
     "execution_count": 3,
     "metadata": {},
     "output_type": "execute_result"
    }
   ],
   "source": [
    "os.listdir(src_base)"
   ]
  },
  {
   "cell_type": "code",
   "execution_count": null,
   "metadata": {},
   "outputs": [],
   "source": [
    "for i in os.listdir(src_base):\n",
    "    if i.split('.')[1] == 'srt':\n",
    "        sub = load(src_base + i)\n",
    "        convert(sub, out_base + i.split('.')[0] + '.lrc')"
   ]
  },
  {
   "cell_type": "code",
   "execution_count": 9,
   "metadata": {},
   "outputs": [
    {
     "data": {
      "text/plain": [
       "['周杰伦合集.mp3',\n",
       " '周杰伦合集.png',\n",
       " '周杰伦合集.srt',\n",
       " '张学友合集.mp3',\n",
       " '张学友合集.png',\n",
       " '张学友合集.srt',\n",
       " '谭咏麟合集.mp3',\n",
       " '谭咏麟合集.png',\n",
       " '谭咏麟合集.srt']"
      ]
     },
     "execution_count": 9,
     "metadata": {},
     "output_type": "execute_result"
    }
   ],
   "source": [
    "os.listdir(src_base)"
   ]
  },
  {
   "cell_type": "code",
   "execution_count": null,
   "metadata": {},
   "outputs": [],
   "source": []
  },
  {
   "cell_type": "code",
   "execution_count": null,
   "metadata": {},
   "outputs": [],
   "source": []
  },
  {
   "cell_type": "code",
   "execution_count": 4,
   "metadata": {},
   "outputs": [
    {
     "data": {
      "text/plain": [
       "(3, 3, 3)"
      ]
     },
     "execution_count": 4,
     "metadata": {},
     "output_type": "execute_result"
    }
   ],
   "source": [
    "mp3s, pngs, lrcs = [], [], []\n",
    "for i in os.listdir(src_base):\n",
    "    tag = i.split('.')[1]\n",
    "    if tag == 'mp3':\n",
    "        mp3s.append(i)\n",
    "    elif tag == 'lrc':\n",
    "        lrcs.append(i)\n",
    "    elif tag == 'png':\n",
    "        pngs.append(i)\n",
    "len(mp3s), len(pngs), len(lrcs)"
   ]
  },
  {
   "cell_type": "code",
   "execution_count": 13,
   "metadata": {},
   "outputs": [
    {
     "data": {
      "text/plain": [
       "'周杰伦合集.lrc'"
      ]
     },
     "execution_count": 13,
     "metadata": {},
     "output_type": "execute_result"
    }
   ],
   "source": [
    "srt = []\n",
    "for i in os.listdir(out_base):\n",
    "    tag = i.split('.')[1]\n",
    "    if tag == 'lrc':\n",
    "        lrcs.append(i)\n",
    "lrcs[0]"
   ]
  },
  {
   "cell_type": "code",
   "execution_count": 12,
   "metadata": {},
   "outputs": [
    {
     "data": {
      "text/plain": [
       "['pySync.ipynb', 'pySync.py']"
      ]
     },
     "execution_count": 12,
     "metadata": {},
     "output_type": "execute_result"
    }
   ],
   "source": [
    "os.listdir()"
   ]
  },
  {
   "cell_type": "code",
   "execution_count": 14,
   "metadata": {},
   "outputs": [
    {
     "data": {
      "text/plain": [
       "['周杰伦合集.lrc', '张学友合集.lrc', '谭咏麟合集.lrc']"
      ]
     },
     "execution_count": 14,
     "metadata": {},
     "output_type": "execute_result"
    }
   ],
   "source": [
    "os.listdir(out_base)"
   ]
  },
  {
   "cell_type": "code",
   "execution_count": 15,
   "metadata": {},
   "outputs": [],
   "source": [
    "for i in os.listdir(out_base):\n",
    "    os.rename(out_base + i, src_base + i)"
   ]
  },
  {
   "cell_type": "code",
   "execution_count": 16,
   "metadata": {},
   "outputs": [],
   "source": [
    "for i in os.listdir(src_base):\n",
    "    if i.split('.')[1] == 'srt':\n",
    "        os.rename(src_base + i, out_base + i)"
   ]
  },
  {
   "cell_type": "code",
   "execution_count": 5,
   "metadata": {},
   "outputs": [
    {
     "data": {
      "text/plain": [
       "(3, 3, 3)"
      ]
     },
     "execution_count": 5,
     "metadata": {},
     "output_type": "execute_result"
    }
   ],
   "source": [
    "mp3s, pngs, lrcs = [], [], []\n",
    "for i in os.listdir(src_base):\n",
    "    tag = i.split('.')[1]\n",
    "    if tag == 'mp3':\n",
    "        mp3s.append(i)\n",
    "    elif tag == 'lrc':\n",
    "        lrcs.append(i)\n",
    "    elif tag == 'png':\n",
    "        pngs.append(i)\n",
    "len(mp3s), len(pngs), len(lrcs)"
   ]
  },
  {
   "cell_type": "code",
   "execution_count": 6,
   "metadata": {},
   "outputs": [
    {
     "data": {
      "text/plain": [
       "(['周杰伦合集.mp3', '张学友合集.mp3', '谭咏麟合集.mp3'],\n",
       " ['周杰伦合集.png', '张学友合集.png', '谭咏麟合集.png'],\n",
       " ['周杰伦合集.lrc', '张学友合集.lrc', '谭咏麟合集.lrc'])"
      ]
     },
     "execution_count": 6,
     "metadata": {},
     "output_type": "execute_result"
    }
   ],
   "source": [
    "mp3s, pngs, lrcs"
   ]
  },
  {
   "cell_type": "code",
   "execution_count": 7,
   "metadata": {},
   "outputs": [],
   "source": [
    "import music_tag"
   ]
  },
  {
   "cell_type": "code",
   "execution_count": 11,
   "metadata": {},
   "outputs": [],
   "source": [
    "def sync(mp3: str, lrc : str): # not able add pic\n",
    "    f = music_tag.load_file(mp3)\n",
    "    f[\"lyrics\"] = lrc\n",
    "    f.save()"
   ]
  },
  {
   "cell_type": "code",
   "execution_count": 12,
   "metadata": {},
   "outputs": [],
   "source": [
    "for i in range(3):\n",
    "    sync(src_base + mp3s[i], src_base + lrcs[i])"
   ]
  },
  {
   "cell_type": "code",
   "execution_count": null,
   "metadata": {},
   "outputs": [],
   "source": []
  }
 ],
 "metadata": {
  "kernelspec": {
   "display_name": "base",
   "language": "python",
   "name": "python3"
  },
  "language_info": {
   "codemirror_mode": {
    "name": "ipython",
    "version": 3
   },
   "file_extension": ".py",
   "mimetype": "text/x-python",
   "name": "python",
   "nbconvert_exporter": "python",
   "pygments_lexer": "ipython3",
   "version": "3.8.16"
  },
  "orig_nbformat": 4,
  "vscode": {
   "interpreter": {
    "hash": "b7c5aa246141e77272eb9f460de91ee923245a0cdbf0431272fde1b06329d199"
   }
  }
 },
 "nbformat": 4,
 "nbformat_minor": 2
}
