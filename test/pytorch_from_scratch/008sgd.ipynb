{
 "cells": [
  {
   "cell_type": "markdown",
   "metadata": {},
   "source": [
    "### Gradient Descent\n",
    "$$loss=x^2*\\sin(x)$$\n",
    "$$loss'=2x*\\sin(x)+x^2\\cos(x)$$\n",
    "$$x^*=x-loss'*x$$\n",
    "使用学习率lr降低x变化值\n",
    "$$x^*=x-lr*loss'*x$$\n"
   ]
  },
  {
   "cell_type": "markdown",
   "metadata": {},
   "source": [
    "$$ y = w*x+b+\\sigma $$\n",
    "$$ \\sigma - N(0.01,1) $$\n",
    "均方误差\n",
    "$$ loss = (WX+b-y)^2$$"
   ]
  },
  {
   "cell_type": "markdown",
   "metadata": {},
   "source": [
    "### Optimization\n",
    "$$loss = \\sum_i{(w*x_i+b-y_i)^2}$$\n",
    "$$Minimize(loss)$$\n",
    "$$w'*x+b' -> y$$\n",
    "$$get [w',b'] $$"
   ]
  }
 ],
 "metadata": {
  "language_info": {
   "name": "python"
  },
  "orig_nbformat": 4
 },
 "nbformat": 4,
 "nbformat_minor": 2
}
