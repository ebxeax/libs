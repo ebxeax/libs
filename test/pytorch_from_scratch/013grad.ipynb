{
 "cells": [
  {
   "cell_type": "markdown",
   "metadata": {},
   "source": [
    "##### Gradient\n",
    "**Clarificaton**\n",
    "导数,derivate  \n",
    "偏微分,partial derivate  \n",
    "梯度,gradient  \n",
    "$$\n",
    "\\begin{aligned}\n",
    "&\\bigtriangledown{f} = (\\frac{\\delta{f}}{\\delta{x_1}};\\frac{\\delta{f}}{\\delta{x_2}};...;\\frac{\\delta{f}}{\\delta{x_n}})\\\\\n",
    "&z = y^2-x^2\\\\\n",
    "&\\frac{\\delta{z}}{\\delta{x}}=-2x\\\\\n",
    "&\\frac{\\delta{z}}{\\delta{y}}=2y\\\\\n",
    "&\\bigtriangledown{f} = (-2x,2y)\\\\\n",
    "\\end{aligned}\n",
    "$$\n",
    "**How to search for minima?**\n",
    "$$\n",
    "\\begin{aligned}\n",
    "&\\theta_{t+1} = \\theta_{t} - \\alpha_{t}\\bigtriangledown{f(\\theta_{t})}\\\\\n",
    "&Function:\\\\\n",
    "&J(\\theta_1,\\theta_2) = {\\theta_1}^2 + {\\theta_2}^2\\\\\n",
    "&Objective:\\\\\n",
    "&\\substack{\\min\\\\{\\theta_1,\\theta_2}} J(\\theta_1,\\theta_2)\\\\\n",
    "&Update rules:\\\\\n",
    "&\\theta_1:=\\theta_1 - \\alpha \\frac{d}{d\\theta_1}J(\\theta_1,\\theta_2)\\\\\n",
    "&\\theta_2:=\\theta_2 - \\alpha \\frac{d}{d\\theta_2}J(\\theta_1,\\theta_2)\\\\\n",
    "&Derivatives:\\\\\n",
    "&\\frac{d}{d\\theta_1}J(\\theta_1,\\theta_2)=\\frac{d}{d\\theta_1}{\\theta_1}^2 + \\frac{d}{d\\theta_1}{\\theta_2}^2=2\\theta_1\\\\\n",
    "&\\frac{d}{d\\theta_2}J(\\theta_1,\\theta_2)=\\frac{d}{d\\theta_2}{\\theta_1}^2 + \\frac{d}{d\\theta_2}{\\theta_2}^2=2\\theta_2\\\\\n",
    "\\end{aligned}\n",
    "$$\n",
    "##### Common Functions\n",
    "|Common Functions|Function|Derivative|  \n",
    "|---|---|----|\n",
    "|Constant|$$C$$|$$0$$|\n",
    "|Line|$$x$$|$$1$$|\n",
    "||$$ax$$|$$a$$|\n",
    "|Square|$$x^2$$|$$2x$$|\n",
    "|Square root|$$\\sqrt{x}$$|$$\\frac{1}{2}x^{-\\frac{1}{2}}$$|\n",
    "|Exponential|$$e^x$$|$$e^x$$|\n",
    "||$$a^x$$|$$\\ln(a)a^x$$|\n",
    "|Logarithms|$$\\ln(x)$$|$$\\frac{1}{x}$$|\n",
    "||$$\\log_a(x)$$|$$\\frac{1}{x\\ln(a)}$$|\n",
    "|Trigonometry|$$\\sin(x)$$|$$\\cos(x)$$|\n",
    "||$$\\cos(x)$$|$$-\\sin(x)$$|\n",
    "||$$\\tan(x)$$|$${\\sec(x)}^2$$|\n",
    "eg.  \n",
    "$$\n",
    "\\begin{aligned}\n",
    "&f=[y-(xw+b)]^2\\\\\n",
    "&g=xw+b\\\\\n",
    "&\\frac{\\delta f}{\\delta w}=2(y-g)\\frac{\\delta g}{\\delta w}=2(y-(xw+b))*(-x)\\\\\n",
    "&\\frac{\\delta f}{\\delta b}=2(y-g)\\frac{\\delta g}{\\delta b}=2(y-(xw+b))*(-1)\\\\\n",
    "&\\bigtriangledown=(2(y-(xw+b))*(-x),2(y-(xw+b))*(-1))\\\\\n",
    "\\end{aligned}\n",
    "$$"
   ]
  }
 ],
 "metadata": {
  "interpreter": {
   "hash": "52608ef383d7879c93a6e97f7ff160bfb17b8cee2f831315816658e0f0556fad"
  },
  "kernelspec": {
   "display_name": "Python 3.7.3 64-bit",
   "language": "python",
   "name": "python3"
  },
  "language_info": {
   "name": "python",
   "version": "3.7.3"
  },
  "orig_nbformat": 4
 },
 "nbformat": 4,
 "nbformat_minor": 2
}
