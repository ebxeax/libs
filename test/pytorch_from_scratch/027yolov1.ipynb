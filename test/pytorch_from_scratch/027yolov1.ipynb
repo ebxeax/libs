{
 "cells": [
  {
   "cell_type": "markdown",
   "metadata": {},
   "source": [
    "# CNN\n"
   ]
  },
  {
   "cell_type": "markdown",
   "metadata": {},
   "source": [
    "# YOLOv1\n",
    "\n",
    "## Bounding-Box\n",
    "\n",
    "将一张图片分割为有限个单元格(Cell,图中红色网格)   \n",
    "![split-pic](https://gitee.com/Carrawayang/markdown-picture-res/raw/master/split-image.png)  \n",
    "每一个输出和标签都是针对每一个单元格的物体中心(midpiont,图中蓝色圆点)\n",
    "每一个单元格会有[X1, Y1, X2, Y2]\n",
    "对应的物体中心会有一个[X, Y, W, H]  \n",
    "![bb1](https://gitee.com/Carrawayang/markdown-picture-res/raw/master/bounding-box1.png)\n",
    "X, Y 在[0, 1]内表示水平或垂直的距离  \n",
    "W, H > 1 表示物体水平或垂直方向上高于该单元格 数值表示水平或垂直方向的单位长度的倍数  \n",
    "[0.95, 0.55, 0.5, 1.5]=>显然图像靠近右下角 单元格不能表示出完整的物体  \n",
    "![bb2](https://gitee.com/Carrawayang/markdown-picture-res/raw/master/bounding-box2.png)\n",
    "根据 [X, Y, W, H] => [0.95, 0.55, 0.5, 1.5] 计算得到Bounding Box(图中蓝色网格)\n",
    "\n",
    "![bbx3](https://gitee.com/Carrawayang/markdown-picture-res/raw/master/b-box-seq.png)\n",
    "\n",
    "## Image-Label\n",
    "\n",
    "$$\n",
    "\\begin{aligned}\n",
    "&label_{cell}=[C_1,C_2,\\cdots,C_{20},P_c,X,Y,W,H]\\\\\n",
    "&[C_1,C_2,\\cdots,C_{20}]:20\\space different\\space classes\\\\\n",
    "&[P_c]:Probability\\space for\\space there\\space is\\space an\\space object(0\\or1)\\\\\n",
    "&[X,Y,W,H]:Bounding-Box\\\\\n",
    "&pred_{cell}=[C_1,C_2,\\cdots,C_{20},P_{c1},X_1,Y_1,W_1,H_1,P_{c2},X_2,Y_2,W_2,H_2]\\\\\n",
    "&Taget\\space shape\\space for\\space one \\space images:(S, S, 25)\\\\\n",
    "&Predication\\space shape \\space for\\space one\\space images:(S,S,30)\\\\\n",
    "\\end{aligned}\n",
    "$$\n",
    "\n",
    "## Model-Framework\n",
    "\n",
    "![yolov1](https://gitee.com/Carrawayang/markdown-picture-res/raw/master/yolov1-modelfw.png)\n",
    "\n"
   ]
  },
  {
   "cell_type": "code",
   "execution_count": null,
   "metadata": {},
   "outputs": [],
   "source": []
  }
 ],
 "metadata": {
  "interpreter": {
   "hash": "31f2aee4e71d21fbe5cf8b01ff0e069b9275f58929596ceb00d14d90e3e16cd6"
  },
  "kernelspec": {
   "display_name": "Python 3 (ipykernel)",
   "language": "python",
   "name": "python3"
  },
  "language_info": {
   "codemirror_mode": {
    "name": "ipython",
    "version": 3
   },
   "file_extension": ".py",
   "mimetype": "text/x-python",
   "name": "python",
   "nbconvert_exporter": "python",
   "pygments_lexer": "ipython3",
   "version": "3.7.3"
  }
 },
 "nbformat": 4,
 "nbformat_minor": 2
}
