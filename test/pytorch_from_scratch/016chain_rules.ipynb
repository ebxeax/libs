{
 "cells": [
  {
   "cell_type": "markdown",
   "metadata": {},
   "source": [
    "##### Derivative Rules  \n",
    "$$\n",
    "\\begin{aligned}\n",
    "&\\frac{\\delta E}{\\delta w^1_{jk}}=\\frac{\\delta E}{\\delta O_k^1}\\frac{\\delta O_k^1}{\\delta w^1_{jk}}=\\frac{\\delta E}{\\delta O_k^2}\\frac{\\delta O_k^2}{\\delta O_k^1}\\frac{\\delta O_k^1}{\\delta w^1_{jk}}\\\\\n",
    "\\end{aligned}\n",
    "$$"
   ]
  },
  {
   "cell_type": "code",
   "execution_count": 7,
   "metadata": {},
   "outputs": [],
   "source": [
    "import torch, torch.nn.functional as F"
   ]
  },
  {
   "cell_type": "code",
   "execution_count": 8,
   "metadata": {},
   "outputs": [],
   "source": [
    "x = torch.tensor(1.)\n",
    "w1, w2 = torch.tensor(2., requires_grad=True), torch.tensor(2., requires_grad=True)\n",
    "b1, b2 = torch.tensor(1.), torch.tensor(1.)"
   ]
  },
  {
   "cell_type": "code",
   "execution_count": 9,
   "metadata": {},
   "outputs": [],
   "source": [
    "y1 = x * w1 + b1 \n",
    "y2 = y1 * w2 +b2 "
   ]
  },
  {
   "cell_type": "code",
   "execution_count": 4,
   "metadata": {},
   "outputs": [],
   "source": [
    "dy2_dy1 = torch.autograd.grad(y2, [y1], retain_graph=True)[0]\n",
    "dy1_dw1 = torch.autograd.grad(y1, [w1], retain_graph=True)[0]\n",
    "dy2_dw1 = torch.autograd.grad(y2, [w1], retain_graph=True)[0]"
   ]
  },
  {
   "cell_type": "code",
   "execution_count": 10,
   "metadata": {},
   "outputs": [
    {
     "data": {
      "text/plain": [
       "tensor(2.)"
      ]
     },
     "execution_count": 10,
     "metadata": {},
     "output_type": "execute_result"
    }
   ],
   "source": [
    "dy2_dy1 * dy1_dw1"
   ]
  },
  {
   "cell_type": "code",
   "execution_count": 12,
   "metadata": {},
   "outputs": [
    {
     "data": {
      "text/plain": [
       "tensor(2.)"
      ]
     },
     "execution_count": 12,
     "metadata": {},
     "output_type": "execute_result"
    }
   ],
   "source": [
    "dy2_dw1"
   ]
  }
 ],
 "metadata": {
  "@deathbeds/ipydrawio": {
   "xml": "<mxfile host=\"localhost\" modified=\"2022-01-18T09:16:50.042Z\" agent=\"5.0 (Windows NT 10.0; Win64; x64) AppleWebKit/537.36 (KHTML, like Gecko) Chrome/97.0.4692.71 Safari/537.36 Edg/97.0.1072.62\" etag=\"a5x3lHrFDjTyYyjpfkKM\" version=\"15.8.7\" type=\"embed\"><diagram id=\"zouzk6i21ZzSOcaJfl8M\" name=\"Page-1\"><mxGraphModel dx=\"1424\" dy=\"506\" grid=\"1\" gridSize=\"10\" guides=\"1\" tooltips=\"1\" connect=\"1\" arrows=\"1\" fold=\"1\" page=\"1\" pageScale=\"1\" pageWidth=\"827\" pageHeight=\"1169\" math=\"0\" shadow=\"0\"><root><mxCell id=\"0\"/><mxCell id=\"1\" parent=\"0\"/><mxCell id=\"2\" value=\"\" style=\"ellipse;aspect=fixed;fillColor=#6d8764;fontColor=#ffffff;strokeColor=#3A5431;labelBorderColor=none;\" parent=\"1\" vertex=\"1\"><mxGeometry x=\"90\" y=\"180\" width=\"40\" height=\"40\" as=\"geometry\"/></mxCell><mxCell id=\"3\" value=\"&lt;span style=&quot;font-size: 25px&quot;&gt;Sum&lt;/span&gt;\" style=\"ellipse;aspect=fixed;html=1;fillColor=#f0a30a;fontColor=#000000;strokeColor=#BD7000;\" parent=\"1\" vertex=\"1\"><mxGeometry x=\"220\" y=\"160\" width=\"80\" height=\"80\" as=\"geometry\"/></mxCell><mxCell id=\"4\" value=\"Sum\" style=\"ellipse;aspect=fixed;fillColor=#1ba1e2;fontColor=#ffffff;strokeColor=#006EAF;fontSize=25;\" parent=\"1\" vertex=\"1\"><mxGeometry x=\"390\" y=\"160\" width=\"80\" height=\"80\" as=\"geometry\"/></mxCell><mxCell id=\"5\" value=\"E\" style=\"ellipse;aspect=fixed;fillColor=#6a00ff;fontColor=#ffffff;strokeColor=#3700CC;fontSize=25;\" parent=\"1\" vertex=\"1\"><mxGeometry x=\"560\" y=\"160\" width=\"80\" height=\"80\" as=\"geometry\"/></mxCell><mxCell id=\"6\" value=\"t\" style=\"ellipse;aspect=fixed;fillColor=#0050ef;fontColor=#ffffff;strokeColor=#001DBC;fontSize=25;fontStyle=0;labelBorderColor=none;whiteSpace=wrap;html=1;\" parent=\"1\" vertex=\"1\"><mxGeometry x=\"730\" y=\"160\" width=\"80\" height=\"80\" as=\"geometry\"/></mxCell><mxCell id=\"7\" value=\"\" style=\"endArrow=classic;rounded=0;entryX=0;entryY=0.5;entryDx=0;entryDy=0;\" parent=\"1\" target=\"3\" edge=\"1\"><mxGeometry width=\"50\" height=\"50\" relative=\"1\" as=\"geometry\"><mxPoint x=\"130\" y=\"199.5\" as=\"sourcePoint\"/><mxPoint x=\"200\" y=\"199.5\" as=\"targetPoint\"/></mxGeometry></mxCell><mxCell id=\"8\" value=\"\" style=\"endArrow=classic;rounded=0;entryX=0;entryY=0.5;entryDx=0;entryDy=0;\" parent=\"1\" edge=\"1\"><mxGeometry width=\"50\" height=\"50\" relative=\"1\" as=\"geometry\"><mxPoint x=\"300\" y=\"199.5\" as=\"sourcePoint\"/><mxPoint x=\"390\" y=\"200\" as=\"targetPoint\"/></mxGeometry></mxCell><mxCell id=\"9\" value=\"\" style=\"endArrow=classic;rounded=0;entryX=0;entryY=0.5;entryDx=0;entryDy=0;\" parent=\"1\" edge=\"1\"><mxGeometry width=\"50\" height=\"50\" relative=\"1\" as=\"geometry\"><mxPoint x=\"470\" y=\"199.5\" as=\"sourcePoint\"/><mxPoint x=\"560\" y=\"200\" as=\"targetPoint\"/></mxGeometry></mxCell><mxCell id=\"10\" value=\"\" style=\"endArrow=classic;rounded=0;entryX=0;entryY=0.5;entryDx=0;entryDy=0;\" parent=\"1\" edge=\"1\"><mxGeometry width=\"50\" height=\"50\" relative=\"1\" as=\"geometry\"><mxPoint x=\"640\" y=\"199.5\" as=\"sourcePoint\"/><mxPoint x=\"730\" y=\"200\" as=\"targetPoint\"/></mxGeometry></mxCell></root></mxGraphModel></diagram></mxfile>"
  },
  "interpreter": {
   "hash": "52608ef383d7879c93a6e97f7ff160bfb17b8cee2f831315816658e0f0556fad"
  },
  "kernelspec": {
   "display_name": "Python 3 (ipykernel)",
   "language": "python",
   "name": "python3"
  },
  "language_info": {
   "codemirror_mode": {
    "name": "ipython",
    "version": 3
   },
   "file_extension": ".py",
   "mimetype": "text/x-python",
   "name": "python",
   "nbconvert_exporter": "python",
   "pygments_lexer": "ipython3",
   "version": "3.7.3"
  }
 },
 "nbformat": 4,
 "nbformat_minor": 4
}
