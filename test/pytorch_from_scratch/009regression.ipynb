{
 "cells": [
  {
   "cell_type": "code",
   "execution_count": 1,
   "metadata": {},
   "outputs": [],
   "source": [
    "import numpy as np\n",
    "import torch"
   ]
  },
  {
   "cell_type": "markdown",
   "metadata": {},
   "source": [
    "$$loss=(WX+b-y)^2$$"
   ]
  },
  {
   "cell_type": "code",
   "execution_count": 2,
   "metadata": {},
   "outputs": [],
   "source": [
    "def compute_error_for_line_given_points(b, w, points):\n",
    "    totalError = 0\n",
    "    for i in range(0, len(points)):\n",
    "        x, y = points[i, 0], points[i, 1]\n",
    "        totalError += (y - (w * x + b)) ** 2\n",
    "    return totalError / float(len(points))"
   ]
  },
  {
   "cell_type": "markdown",
   "metadata": {},
   "source": [
    "$$w'=w-lr*\\frac{\\delta loss}{\\delta w}$$\n",
    "$$\\frac{\\delta L}{\\delta w}=2x(w*x+b-y)$$\n",
    "$$\\frac{\\delta L}{\\delta b}=2(w*x+b-y)$$"
   ]
  },
  {
   "cell_type": "code",
   "execution_count": 3,
   "metadata": {},
   "outputs": [],
   "source": [
    "def step_gradient(b_, w_, points, lr):\n",
    "    b_g, w_g = 0, 0\n",
    "    N = float(len(points))\n",
    "    for i in range(0, len(points)):\n",
    "        x, y = points[i, 0], points[i, 1]\n",
    "        b_g += -(2/N) * (y-(w_ * x)+b_)\n",
    "        w_g += -(2/N) * x * (y-(w_ * x)+b_)\n",
    "    n_b, n_w = b_ - (lr * b_g), w_ - (lr * w_g) \n",
    "    return [n_b, n_w]"
   ]
  },
  {
   "cell_type": "code",
   "execution_count": 4,
   "metadata": {},
   "outputs": [],
   "source": [
    "def gradient_descent_runner(pts, b_st, w_st, lr, num_iter):\n",
    "    b, w = b_st, w_st\n",
    "    for i in range(num_iter):\n",
    "        b, w = step_gradient(b, w, np.array(pts), lr)\n",
    "    return [b,w]"
   ]
  },
  {
   "cell_type": "code",
   "execution_count": 5,
   "metadata": {},
   "outputs": [],
   "source": [
    "def generate_normal_data():\n",
    "    data = torch.normal(0,0.01,(100,2)).numpy()\n",
    "    np.savetxt('../data/data.csv',data,delimiter=',')\n",
    "generate_normal_data()"
   ]
  },
  {
   "cell_type": "code",
   "execution_count": 6,
   "metadata": {},
   "outputs": [],
   "source": [
    "def main():\n",
    "    pts = np.genfromtxt(\"../data/data.csv\", delimiter=\",\")\n",
    "    lr = 0.03\n",
    "    init_b, init_w = 0, 0\n",
    "    num_iter = 10000\n",
    "    print(\"-----------Start--------------\")\n",
    "    print(\"b = {0}, w = {1}, error = {2}\".format(init_b, init_w, compute_error_for_line_given_points(init_b, init_w, pts)))\n",
    "    print(\"Running......\")\n",
    "    [b, w] = gradient_descent_runner(pts, init_b, init_w, lr, num_iter)\n",
    "    print('After {0} iter b = {1}, w = {2}, error = {3}'.format(num_iter, b, w, compute_error_for_line_given_points(b, w, pts)))\n",
    "\n",
    "    "
   ]
  },
  {
   "cell_type": "code",
   "execution_count": 7,
   "metadata": {},
   "outputs": [
    {
     "name": "stdout",
     "output_type": "stream",
     "text": [
      "-----------Start--------------\n",
      "b = 0, w = 0, error = 7.593334033433503e-05\n",
      "Running......\n",
      "After 10000 iter b = 1.4057142239934152e+250, w = -8.847244189312976e+246, error = inf\n"
     ]
    },
    {
     "name": "stderr",
     "output_type": "stream",
     "text": [
      "C:\\Users\\ygx79\\AppData\\Local\\Programs\\Python\\Python37\\lib\\site-packages\\ipykernel_launcher.py:5: RuntimeWarning: overflow encountered in double_scalars\n",
      "  \"\"\"\n"
     ]
    }
   ],
   "source": [
    "main()"
   ]
  }
 ],
 "metadata": {
  "interpreter": {
   "hash": "52608ef383d7879c93a6e97f7ff160bfb17b8cee2f831315816658e0f0556fad"
  },
  "kernelspec": {
   "display_name": "Python 3.7.3 64-bit",
   "language": "python",
   "name": "python3"
  },
  "language_info": {
   "codemirror_mode": {
    "name": "ipython",
    "version": 3
   },
   "file_extension": ".py",
   "mimetype": "text/x-python",
   "name": "python",
   "nbconvert_exporter": "python",
   "pygments_lexer": "ipython3",
   "version": "3.7.3"
  },
  "orig_nbformat": 4
 },
 "nbformat": 4,
 "nbformat_minor": 2
}
