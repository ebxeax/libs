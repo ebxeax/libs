{
 "cells": [
  {
   "cell_type": "code",
   "execution_count": 1,
   "metadata": {},
   "outputs": [],
   "source": [
    "import os\n",
    "\n",
    "os.makedirs(os.path.join('..','data'),exist_ok=True)\n",
    "data_file = os.path.join('..','data','house_tiny.csv')\n",
    "with open(data_file,'w') as f:\n",
    "    f.write('NumRooms, Alley, Price\\n')\n",
    "    f.write('NA, Pave, 127500\\n')\n",
    "    f.write('2, NA, 10600\\n')\n",
    "    f.write('NA, Pave, 127500\\n')\n",
    "    f.write('4, NA, 106000\\n')"
   ]
  },
  {
   "cell_type": "code",
   "execution_count": 3,
   "metadata": {},
   "outputs": [
    {
     "name": "stdout",
     "output_type": "stream",
     "text": [
      "   NumRooms  Alley   Price\n",
      "0       NaN   Pave  127500\n",
      "1       2.0     NA   10600\n",
      "2       NaN   Pave  127500\n",
      "3       4.0     NA  106000\n"
     ]
    }
   ],
   "source": [
    "import pandas as pd\n",
    "\n",
    "data = pd.read_csv(data_file)\n",
    "print(data)"
   ]
  },
  {
   "cell_type": "markdown",
   "metadata": {},
   "source": [
    "### iloc 位置索引"
   ]
  },
  {
   "cell_type": "code",
   "execution_count": 4,
   "metadata": {},
   "outputs": [
    {
     "name": "stdout",
     "output_type": "stream",
     "text": [
      "   NumRooms  Alley\n",
      "0       3.0   Pave\n",
      "1       2.0     NA\n",
      "2       3.0   Pave\n",
      "3       4.0     NA\n"
     ]
    }
   ],
   "source": [
    "ips, ops = data.iloc[:, 0:2], data.iloc[:, 2]\n",
    "ips = ips.fillna(ips.mean())\n",
    "print(ips)"
   ]
  },
  {
   "cell_type": "code",
   "execution_count": 5,
   "metadata": {},
   "outputs": [
    {
     "name": "stdout",
     "output_type": "stream",
     "text": [
      "   NumRooms   Alley_ NA   Alley_ Pave   Alley_nan\n",
      "0       3.0           0             1           0\n",
      "1       2.0           1             0           0\n",
      "2       3.0           0             1           0\n",
      "3       4.0           1             0           0\n"
     ]
    }
   ],
   "source": [
    "ips = pd.get_dummies(ips, dummy_na=True)\n",
    "print(ips)"
   ]
  },
  {
   "cell_type": "markdown",
   "metadata": {},
   "source": [
    "**转换张量格式**"
   ]
  },
  {
   "cell_type": "code",
   "execution_count": 6,
   "metadata": {},
   "outputs": [
    {
     "data": {
      "text/plain": [
       "(tensor([[3., 0., 1., 0.],\n",
       "         [2., 1., 0., 0.],\n",
       "         [3., 0., 1., 0.],\n",
       "         [4., 1., 0., 0.]], dtype=torch.float64),\n",
       " tensor([127500,  10600, 127500, 106000]))"
      ]
     },
     "execution_count": 6,
     "metadata": {},
     "output_type": "execute_result"
    }
   ],
   "source": [
    "import torch\n",
    "\n",
    "X, y =torch.tensor(ips.values), torch.tensor(ops.values)\n",
    "X, y"
   ]
  }
 ],
 "metadata": {
  "interpreter": {
   "hash": "52608ef383d7879c93a6e97f7ff160bfb17b8cee2f831315816658e0f0556fad"
  },
  "kernelspec": {
   "display_name": "Python 3.7.3 64-bit",
   "language": "python",
   "name": "python3"
  },
  "language_info": {
   "codemirror_mode": {
    "name": "ipython",
    "version": 3
   },
   "file_extension": ".py",
   "mimetype": "text/x-python",
   "name": "python",
   "nbconvert_exporter": "python",
   "pygments_lexer": "ipython3",
   "version": "3.7.3"
  },
  "orig_nbformat": 4
 },
 "nbformat": 4,
 "nbformat_minor": 2
}
