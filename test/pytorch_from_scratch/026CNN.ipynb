{
 "cells": [
  {
   "cell_type": "markdown",
   "metadata": {},
   "source": [
    "# 分类猫和狗\n",
    "使用一个还不错的相机采集图片(12M)    \n",
    "RGB figure 36M 元素  \n",
    "使用100大小的单隐藏层MLP 模型有3.6B = 14GB 元素    \n",
    "远多于世界上所有的猫狗总数(900M dog 600M cat)  \n",
    "# 两个原则\n",
    "平移不变性  \n",
    "局部性  \n",
    "# 重新考察全连接层  \n",
    "将输入和输出变形为矩阵（宽度，高度）\n",
    "将权重变形为4-D张量（h,w）到（h',w'）\n",
    "$$h_{i,j}=\\sum_{k,l}w_{i,j,k,l}x_{k,l}=\\sum_{a,b}=v_{i,j,a,b}x_{i+a,j+b}$$  \n",
    "V是W的重新索引$$v_{i,j,a,b}=w_{i,j,i+a,j+b}$$\n",
    "# 原则#1 - 平移不变性\n",
    "x的平移导致h的平移$$h_{i,j}=\\sum_{a,b}v_{i,j,a,b}x_{i+a,j+b}$$  \n",
    "v不应依赖于（i, j）  \n",
    "解决方案：$$v_{i,j,a,b}=v_{a, b}$$  \n",
    "$$h_{i,j}=\\sum_{a,b}v_{a,b}x_{i+a,j+b}$$  \n",
    "这就是交叉相关  \n"
   ]
  },
  {
   "cell_type": "code",
   "execution_count": 2,
   "metadata": {},
   "outputs": [],
   "source": [
    "import torch \n",
    "from torch import nn\n",
    "from d2l import torch as d2l\n",
    "def corr2d(X, K):\n",
    "    h, w = K.shape\n",
    "    Y = torch.zeros((X.shape[0] - h + 1, X.shape[1] - w + 1))\n",
    "    for i in range(Y.shape[0]):\n",
    "        for j in range(Y.shape[1]):\n",
    "            Y[i, j] = (X[i:i + h, j:j + w] * K).sum()\n",
    "    return Y"
   ]
  },
  {
   "cell_type": "code",
   "execution_count": null,
   "metadata": {},
   "outputs": [],
   "source": []
  }
 ],
 "metadata": {
  "interpreter": {
   "hash": "31f2aee4e71d21fbe5cf8b01ff0e069b9275f58929596ceb00d14d90e3e16cd6"
  },
  "kernelspec": {
   "display_name": "Python 3.6.9 64-bit",
   "language": "python",
   "name": "python3"
  },
  "language_info": {
   "codemirror_mode": {
    "name": "ipython",
    "version": 3
   },
   "file_extension": ".py",
   "mimetype": "text/x-python",
   "name": "python",
   "nbconvert_exporter": "python",
   "pygments_lexer": "ipython3",
   "version": "3.7.3"
  },
  "orig_nbformat": 4
 },
 "nbformat": 4,
 "nbformat_minor": 2
}
