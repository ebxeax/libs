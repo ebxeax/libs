{
 "cells": [
  {
   "cell_type": "markdown",
   "id": "d4709d32-28d3-49e2-94d6-704972db7c5b",
   "metadata": {},
   "source": [
    "#### MLP backward\n",
    "$$\n",
    "\\begin{aligned}\n",
    "&For \\space an \\space output \\space layer \\space node \\space k\\in K\\\\\n",
    "&\\frac{\\delta E}{\\delta W_{jk}}=O_j\\delta_k\\\\\n",
    "&where\\\\\n",
    "&\\delta_k = O_k(1-O_k)(O_k-t_k)\\\\\n",
    "&For \\space a \\space hidden \\space layer \\space node \\space j\\in J\\\\\n",
    "&\\frac{\\delta E}{\\delta W_{ij}}=O_i\\delta_j\\\\\n",
    "&where\\\\\n",
    "&\\delta_j=O_j(1-O_j)\\sum_{k\\in K}\\delta_k W_{jk}\\\\\n",
    "\\end{aligned}\n",
    "$$"
   ]
  }
 ],
 "metadata": {
  "kernelspec": {
   "display_name": "Python 3 (ipykernel)",
   "language": "python",
   "name": "python3"
  },
  "language_info": {
   "codemirror_mode": {
    "name": "ipython",
    "version": 3
   },
   "file_extension": ".py",
   "mimetype": "text/x-python",
   "name": "python",
   "nbconvert_exporter": "python",
   "pygments_lexer": "ipython3",
   "version": "3.7.3"
  }
 },
 "nbformat": 4,
 "nbformat_minor": 5
}
