{
 "cells": [
  {
   "cell_type": "markdown",
   "metadata": {},
   "source": [
    "##### 单层感知机\n",
    "![slp](.\\img\\singleLayerPerceptron.png)\n",
    "$$\n",
    "\\begin{aligned}\n",
    "& y = XW + b \\\\\n",
    "& y = \\sum x_i*w_i+b\\\\\n",
    "\\end{aligned}\n",
    "$$"
   ]
  },
  {
   "cell_type": "markdown",
   "metadata": {},
   "source": [
    "##### Derivative\n",
    "$$\n",
    "\\begin{aligned}\n",
    "&E=\\frac{1}{2}(O^1_0-t)^2\\\\\n",
    "&\\frac{\\delta E}{\\delta W_{j0}}=(O_0-t)\\frac{\\delta O_0}{\\delta w_{j0}}\\\\\n",
    "&=(O_0-t)\\frac{\\delta O_0}{\\delta w_{j0}}\\\\\n",
    "&=(O_0-t)\\delta(x_0)(1-\\delta(x_0))\\frac{\\delta x_0^1}{\\delta w_j^0}\\\\\n",
    "&=(O_0-t)O_0(1-O_0)\\frac{\\delta x_0^1}{\\delta w_j^0}\\\\\n",
    "&=(O_0-t)O_0(1-O_0)x_j^0\n",
    "\\end{aligned}\n",
    "$$"
   ]
  },
  {
   "cell_type": "code",
   "execution_count": 7,
   "metadata": {},
   "outputs": [],
   "source": [
    "import torch,torch.nn.functional as F"
   ]
  },
  {
   "cell_type": "code",
   "execution_count": 8,
   "metadata": {},
   "outputs": [
    {
     "data": {
      "text/plain": [
       "torch.Size([1, 1])"
      ]
     },
     "execution_count": 8,
     "metadata": {},
     "output_type": "execute_result"
    }
   ],
   "source": [
    "x = torch.randn(1, 10)\n",
    "w = torch.randn(1, 10, requires_grad=True)\n",
    "o = torch.sigmoid(x@w.t())\n",
    "o.shape"
   ]
  },
  {
   "cell_type": "code",
   "execution_count": 9,
   "metadata": {},
   "outputs": [
    {
     "data": {
      "text/plain": [
       "torch.Size([])"
      ]
     },
     "execution_count": 9,
     "metadata": {},
     "output_type": "execute_result"
    }
   ],
   "source": [
    "loss = F.mse_loss(torch.ones(1, 1), o)\n",
    "loss.shape"
   ]
  },
  {
   "cell_type": "code",
   "execution_count": 10,
   "metadata": {},
   "outputs": [],
   "source": [
    "loss.backward()"
   ]
  },
  {
   "cell_type": "code",
   "execution_count": 11,
   "metadata": {},
   "outputs": [
    {
     "data": {
      "text/plain": [
       "tensor([[-0.1801,  0.1923,  0.2480, -0.0919,  0.1487,  0.0196, -0.1588, -0.1652,\n",
       "          0.3811, -0.2290]])"
      ]
     },
     "execution_count": 11,
     "metadata": {},
     "output_type": "execute_result"
    }
   ],
   "source": [
    "w.grad"
   ]
  },
  {
   "cell_type": "markdown",
   "metadata": {},
   "source": [
    "##### Multi-output Perceptron\n",
    "![mop](img\\Multi-outputPerceptron.png)\n",
    "##### Derivative\n",
    "$$\n",
    "\\begin{aligned}\n",
    "&E=\\frac{1}{2}(O^1_i-t)^2\\\\\n",
    "&\\frac{\\delta E}{\\delta W_{jk}}=(O_k-t_k)\\frac{\\delta O_k}{\\delta w_{jk}}\\\\\n",
    "&=(O_k-t)\\frac{\\delta O_0}{\\delta w_{j0}}\\\\\n",
    "&=(O_k-t)\\delta(x_0)(1-\\delta(x_0))\\frac{\\delta x_0^1}{\\delta w_j^0}\\\\\n",
    "&=(O_k-t)O_0(1-O_0)\\frac{\\delta x_0^1}{\\delta w_j^0}\\\\\n",
    "&=(O_k-t)O_0(1-O_0)x_j^0\n",
    "\\end{aligned}\n",
    "$$"
   ]
  }
 ],
 "metadata": {
  "interpreter": {
   "hash": "52608ef383d7879c93a6e97f7ff160bfb17b8cee2f831315816658e0f0556fad"
  },
  "kernelspec": {
   "display_name": "Python 3 (ipykernel)",
   "language": "python",
   "name": "python3"
  },
  "language_info": {
   "codemirror_mode": {
    "name": "ipython",
    "version": 3
   },
   "file_extension": ".py",
   "mimetype": "text/x-python",
   "name": "python",
   "nbconvert_exporter": "python",
   "pygments_lexer": "ipython3",
   "version": "3.7.3"
  }
 },
 "nbformat": 4,
 "nbformat_minor": 2
}
