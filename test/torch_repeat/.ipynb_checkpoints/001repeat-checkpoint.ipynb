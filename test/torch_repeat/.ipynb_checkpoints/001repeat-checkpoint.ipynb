{
 "cells": [
  {
   "cell_type": "code",
   "execution_count": 25,
   "id": "3d71b61e-f7f2-4bab-9b08-5f59be45ce64",
   "metadata": {},
   "outputs": [],
   "source": [
    "import torch"
   ]
  },
  {
   "cell_type": "code",
   "execution_count": 6,
   "id": "eb0d210f-55a9-4597-82ea-e94b87705b64",
   "metadata": {},
   "outputs": [],
   "source": [
    "x, y = torch.arange(12), torch.arange(24)"
   ]
  },
  {
   "cell_type": "code",
   "execution_count": 7,
   "id": "e2b9c614-0286-4a03-ab3a-4e718ed5ac4d",
   "metadata": {},
   "outputs": [
    {
     "data": {
      "text/plain": [
       "(tensor([ 0,  1,  2,  3,  4,  5,  6,  7,  8,  9, 10, 11]),\n",
       " tensor([ 0,  1,  2,  3,  4,  5,  6,  7,  8,  9, 10, 11, 12, 13, 14, 15, 16, 17,\n",
       "         18, 19, 20, 21, 22, 23]))"
      ]
     },
     "execution_count": 7,
     "metadata": {},
     "output_type": "execute_result"
    }
   ],
   "source": [
    "x, y"
   ]
  },
  {
   "cell_type": "code",
   "execution_count": 11,
   "id": "19b531ff-0665-4b9d-9691-360a23f807c6",
   "metadata": {},
   "outputs": [
    {
     "data": {
      "text/plain": [
       "(torch.Size([12]), torch.Size([24]))"
      ]
     },
     "execution_count": 11,
     "metadata": {},
     "output_type": "execute_result"
    }
   ],
   "source": [
    "x.shape, y.shape"
   ]
  },
  {
   "cell_type": "code",
   "execution_count": 12,
   "id": "29d6fd4f-4585-4dcc-83be-6879cd68bbcd",
   "metadata": {},
   "outputs": [
    {
     "data": {
      "text/plain": [
       "(12, 24)"
      ]
     },
     "execution_count": 12,
     "metadata": {},
     "output_type": "execute_result"
    }
   ],
   "source": [
    "x.numel(), y.numel()"
   ]
  },
  {
   "cell_type": "code",
   "execution_count": 15,
   "id": "04b5a569-2a73-496e-9eea-4c6b82806a6e",
   "metadata": {},
   "outputs": [
    {
     "data": {
      "text/plain": [
       "(tensor([[ 0,  1,  2,  3],\n",
       "         [ 4,  5,  6,  7],\n",
       "         [ 8,  9, 10, 11]]),\n",
       " tensor([[ 0,  1,  2,  3],\n",
       "         [ 4,  5,  6,  7],\n",
       "         [ 8,  9, 10, 11],\n",
       "         [12, 13, 14, 15],\n",
       "         [16, 17, 18, 19],\n",
       "         [20, 21, 22, 23]]))"
      ]
     },
     "execution_count": 15,
     "metadata": {},
     "output_type": "execute_result"
    }
   ],
   "source": [
    "x.reshape(3, 4), y.reshape(6, 4)"
   ]
  },
  {
   "cell_type": "code",
   "execution_count": 20,
   "id": "e7149386-7679-4cd1-92b2-6b158c00e2f5",
   "metadata": {},
   "outputs": [],
   "source": [
    "zeros, ones, randn = torch.zeros(2, 3), torch.ones(2, 3), torch.randn(2, 3)"
   ]
  },
  {
   "cell_type": "code",
   "execution_count": 21,
   "id": "1d60c30b-0ab7-4ce5-9aff-593fc65e84d1",
   "metadata": {},
   "outputs": [
    {
     "data": {
      "text/plain": [
       "(tensor([[0., 0., 0.],\n",
       "         [0., 0., 0.]]),\n",
       " tensor([[1., 1., 1.],\n",
       "         [1., 1., 1.]]),\n",
       " tensor([[-0.7930,  0.2799,  0.7478],\n",
       "         [-1.2043,  0.7893,  2.0885]]))"
      ]
     },
     "execution_count": 21,
     "metadata": {},
     "output_type": "execute_result"
    }
   ],
   "source": [
    "zeros, ones, randn"
   ]
  },
  {
   "cell_type": "code",
   "execution_count": 23,
   "id": "127c143a-77be-4960-a712-8bec85ed38d8",
   "metadata": {},
   "outputs": [],
   "source": [
    "tensorX = torch.tensor([[1, 2, 3], [4, 5, 6]])"
   ]
  },
  {
   "cell_type": "code",
   "execution_count": 24,
   "id": "b8d1cc7f-8225-42f0-adcc-701c49e46aa5",
   "metadata": {},
   "outputs": [
    {
     "data": {
      "text/plain": [
       "tensor([[1, 2, 3],\n",
       "        [4, 5, 6]])"
      ]
     },
     "execution_count": 24,
     "metadata": {},
     "output_type": "execute_result"
    }
   ],
   "source": [
    "tensorX"
   ]
  },
  {
   "cell_type": "code",
   "execution_count": null,
   "id": "ff0cc654-2464-4d2d-9b5f-19a14e6fd8f9",
   "metadata": {},
   "outputs": [],
   "source": []
  },
  {
   "cell_type": "code",
   "execution_count": null,
   "id": "00836a44-a39f-4d38-af03-2b1ac1fccd18",
   "metadata": {},
   "outputs": [],
   "source": []
  },
  {
   "cell_type": "code",
   "execution_count": null,
   "id": "58c0c26b-3b77-4471-bf40-c3e0aa8f777d",
   "metadata": {},
   "outputs": [],
   "source": []
  },
  {
   "cell_type": "code",
   "execution_count": 27,
   "id": "40637348-a936-488e-8b8c-39ee6d3d2fbf",
   "metadata": {},
   "outputs": [],
   "source": [
    "X, Y = torch.tensor([1.0, 2, 4, 8]), torch.tensor([2, 2, 2, 2])"
   ]
  },
  {
   "cell_type": "code",
   "execution_count": 28,
   "id": "b48d65aa-8518-4a33-a57d-548dd7b5c9f6",
   "metadata": {},
   "outputs": [
    {
     "data": {
      "text/plain": [
       "(tensor([ 3.,  4.,  6., 10.]),\n",
       " tensor([-1.,  0.,  2.,  6.]),\n",
       " tensor([ 2.,  4.,  8., 16.]),\n",
       " tensor([0.5000, 1.0000, 2.0000, 4.0000]),\n",
       " tensor([ 1.,  4., 16., 64.]))"
      ]
     },
     "execution_count": 28,
     "metadata": {},
     "output_type": "execute_result"
    }
   ],
   "source": [
    "X + Y, X - Y, X * Y, X / Y, X ** Y"
   ]
  },
  {
   "cell_type": "code",
   "execution_count": 29,
   "id": "41ea3ebe-d781-4cb7-a696-c41cec6b5398",
   "metadata": {},
   "outputs": [
    {
     "data": {
      "text/plain": [
       "tensor([2.7183e+00, 7.3891e+00, 5.4598e+01, 2.9810e+03])"
      ]
     },
     "execution_count": 29,
     "metadata": {},
     "output_type": "execute_result"
    }
   ],
   "source": [
    "torch.exp(X)"
   ]
  },
  {
   "cell_type": "code",
   "execution_count": 30,
   "id": "8ce9dba0-c231-4d9e-9066-200054fcf386",
   "metadata": {},
   "outputs": [],
   "source": [
    "a, b =torch.arange(12, dtype = torch.float64).reshape(3, 4), torch.tensor([[2.0, 1, 4, 3], [1, 2, 3, 4], [4, 3, 2, 1]])"
   ]
  },
  {
   "cell_type": "code",
   "execution_count": 31,
   "id": "94601c49-33ad-499a-9f23-471bdaff3abe",
   "metadata": {},
   "outputs": [
    {
     "data": {
      "text/plain": [
       "(tensor([[ 0.,  1.,  2.,  3.],\n",
       "         [ 4.,  5.,  6.,  7.],\n",
       "         [ 8.,  9., 10., 11.],\n",
       "         [ 2.,  1.,  4.,  3.],\n",
       "         [ 1.,  2.,  3.,  4.],\n",
       "         [ 4.,  3.,  2.,  1.]], dtype=torch.float64),\n",
       " tensor([[ 0.,  1.,  2.,  3.,  2.,  1.,  4.,  3.],\n",
       "         [ 4.,  5.,  6.,  7.,  1.,  2.,  3.,  4.],\n",
       "         [ 8.,  9., 10., 11.,  4.,  3.,  2.,  1.]], dtype=torch.float64))"
      ]
     },
     "execution_count": 31,
     "metadata": {},
     "output_type": "execute_result"
    }
   ],
   "source": [
    "torch.cat((a, b), dim = 0), torch.cat((a, b), dim = 1)"
   ]
  },
  {
   "cell_type": "code",
   "execution_count": 32,
   "id": "47431290-e0a1-4d6a-90fe-8eb3b0ae81f4",
   "metadata": {},
   "outputs": [
    {
     "data": {
      "text/plain": [
       "tensor([[False,  True, False,  True],\n",
       "        [False, False, False, False],\n",
       "        [False, False, False, False]])"
      ]
     },
     "execution_count": 32,
     "metadata": {},
     "output_type": "execute_result"
    }
   ],
   "source": [
    "a == b"
   ]
  },
  {
   "cell_type": "code",
   "execution_count": 33,
   "id": "18edf0c3-f69e-4b30-bef1-079cf4175d22",
   "metadata": {},
   "outputs": [
    {
     "data": {
      "text/plain": [
       "(tensor(66., dtype=torch.float64), tensor(30.))"
      ]
     },
     "execution_count": 33,
     "metadata": {},
     "output_type": "execute_result"
    }
   ],
   "source": [
    "a.sum(), b.sum()"
   ]
  },
  {
   "cell_type": "code",
   "execution_count": 34,
   "id": "585ef487-b38e-4b87-9bd6-fadcff565f36",
   "metadata": {},
   "outputs": [],
   "source": [
    "p, q = torch.arange(3).reshape((3, 1)), torch.arange(2).reshape((1, 2))"
   ]
  },
  {
   "cell_type": "code",
   "execution_count": 35,
   "id": "27048f7a-b679-4cde-b672-8a3aa0ffa91b",
   "metadata": {},
   "outputs": [
    {
     "data": {
      "text/plain": [
       "(tensor([[0],\n",
       "         [1],\n",
       "         [2]]),\n",
       " tensor([[0, 1]]))"
      ]
     },
     "execution_count": 35,
     "metadata": {},
     "output_type": "execute_result"
    }
   ],
   "source": [
    "p, q"
   ]
  },
  {
   "cell_type": "code",
   "execution_count": 36,
   "id": "0ed75dde-ecbd-444f-8e9c-32e7db90cd70",
   "metadata": {},
   "outputs": [
    {
     "data": {
      "text/plain": [
       "tensor([[0, 1],\n",
       "        [1, 2],\n",
       "        [2, 3]])"
      ]
     },
     "execution_count": 36,
     "metadata": {},
     "output_type": "execute_result"
    }
   ],
   "source": [
    "q + p"
   ]
  },
  {
   "cell_type": "code",
   "execution_count": 42,
   "id": "be5955c0-b268-4e75-8064-ca73963106c4",
   "metadata": {},
   "outputs": [
    {
     "data": {
      "text/plain": [
       "tensor([[-0.2175,  1.2975, -1.4377, -0.6559],\n",
       "        [-0.4125,  0.2430,  0.6188,  0.8181],\n",
       "        [-0.7755,  0.2852,  0.8682,  0.5547]])"
      ]
     },
     "execution_count": 42,
     "metadata": {},
     "output_type": "execute_result"
    }
   ],
   "source": [
    "arr = torch.randn(3,4)\n",
    "arr"
   ]
  },
  {
   "cell_type": "code",
   "execution_count": 44,
   "id": "68cd019c-1a9d-447d-b83c-796d71b9ce90",
   "metadata": {},
   "outputs": [
    {
     "data": {
      "text/plain": [
       "tensor([[-0.2175,  1.2975, -1.4377, -0.6559],\n",
       "        [-0.4125,  0.2430,  0.6188,  0.8181],\n",
       "        [-0.7755,  0.2852,  0.8682,  0.5547]])"
      ]
     },
     "execution_count": 44,
     "metadata": {},
     "output_type": "execute_result"
    }
   ],
   "source": [
    "arr[:]"
   ]
  },
  {
   "cell_type": "code",
   "execution_count": 45,
   "id": "eb356155-10ac-4f6f-a475-db342e6b853d",
   "metadata": {},
   "outputs": [
    {
     "data": {
      "text/plain": [
       "tensor([[-0.4125,  0.2430,  0.6188,  0.8181],\n",
       "        [-0.7755,  0.2852,  0.8682,  0.5547]])"
      ]
     },
     "execution_count": 45,
     "metadata": {},
     "output_type": "execute_result"
    }
   ],
   "source": [
    "arr[1:3]"
   ]
  },
  {
   "cell_type": "code",
   "execution_count": 46,
   "id": "d6f9e55f-5d86-4445-8f8a-6e68f71c5615",
   "metadata": {},
   "outputs": [
    {
     "data": {
      "text/plain": [
       "tensor([-0.7755,  0.2852,  0.8682,  0.5547])"
      ]
     },
     "execution_count": 46,
     "metadata": {},
     "output_type": "execute_result"
    }
   ],
   "source": [
    "arr[-1]"
   ]
  },
  {
   "cell_type": "code",
   "execution_count": 47,
   "id": "55aff36c-2a15-42c8-9eef-4391f7a091ed",
   "metadata": {},
   "outputs": [
    {
     "data": {
      "text/plain": [
       "tensor(0.6188)"
      ]
     },
     "execution_count": 47,
     "metadata": {},
     "output_type": "execute_result"
    }
   ],
   "source": [
    "arr[1, 2]"
   ]
  },
  {
   "cell_type": "code",
   "execution_count": 48,
   "id": "de53c3dd-7944-415f-a7ab-14d1bb884c48",
   "metadata": {},
   "outputs": [],
   "source": [
    "arr[1, 2] = 0.0"
   ]
  },
  {
   "cell_type": "code",
   "execution_count": 49,
   "id": "32467a38-1253-423f-a89b-51fab5c3a9b6",
   "metadata": {},
   "outputs": [
    {
     "data": {
      "text/plain": [
       "tensor([[-0.2175,  1.2975, -1.4377, -0.6559],\n",
       "        [-0.4125,  0.2430,  0.0000,  0.8181],\n",
       "        [-0.7755,  0.2852,  0.8682,  0.5547]])"
      ]
     },
     "execution_count": 49,
     "metadata": {},
     "output_type": "execute_result"
    }
   ],
   "source": [
    "arr[:]"
   ]
  },
  {
   "cell_type": "code",
   "execution_count": 50,
   "id": "5cec9f20-9135-4ab7-bdc0-f51341ca0415",
   "metadata": {},
   "outputs": [
    {
     "data": {
      "text/plain": [
       "tensor([[-0.2175,  1.2975, -1.4377, -0.6559],\n",
       "        [-0.4125,  0.2430,  0.0000,  0.8181]])"
      ]
     },
     "execution_count": 50,
     "metadata": {},
     "output_type": "execute_result"
    }
   ],
   "source": [
    "arr[0:2, :]"
   ]
  },
  {
   "cell_type": "code",
   "execution_count": 51,
   "id": "bf8eb0c5-548c-493a-816f-68f28ca0e474",
   "metadata": {},
   "outputs": [],
   "source": [
    "arr[0:2, :] = 12."
   ]
  },
  {
   "cell_type": "code",
   "execution_count": 52,
   "id": "40920ff8-78df-4164-80cd-d7e02ba479f9",
   "metadata": {},
   "outputs": [
    {
     "data": {
      "text/plain": [
       "tensor([[12.0000, 12.0000, 12.0000, 12.0000],\n",
       "        [12.0000, 12.0000, 12.0000, 12.0000],\n",
       "        [-0.7755,  0.2852,  0.8682,  0.5547]])"
      ]
     },
     "execution_count": 52,
     "metadata": {},
     "output_type": "execute_result"
    }
   ],
   "source": [
    "arr[:]"
   ]
  },
  {
   "cell_type": "code",
   "execution_count": 54,
   "id": "cb2c5b9d-53e7-475d-9681-019b74fee9b4",
   "metadata": {},
   "outputs": [],
   "source": [
    "before = id(arr)\n",
    "brr = torch.randn(3,4)"
   ]
  },
  {
   "cell_type": "code",
   "execution_count": 55,
   "id": "c247ea47-8132-425c-9fcf-849f9b40ffe4",
   "metadata": {},
   "outputs": [],
   "source": [
    "arr = arr + brr"
   ]
  },
  {
   "cell_type": "code",
   "execution_count": 57,
   "id": "e470ae47-27ce-4880-9771-cc49283cfcb4",
   "metadata": {},
   "outputs": [
    {
     "data": {
      "text/plain": [
       "False"
      ]
     },
     "execution_count": 57,
     "metadata": {},
     "output_type": "execute_result"
    }
   ],
   "source": [
    "id(arr) == before"
   ]
  },
  {
   "cell_type": "code",
   "execution_count": 60,
   "id": "87b0994d-8eb6-4298-9922-fa17dbe0e388",
   "metadata": {},
   "outputs": [
    {
     "name": "stdout",
     "output_type": "stream",
     "text": [
      "140595909928264\n"
     ]
    }
   ],
   "source": [
    "Z = torch.zeros_like(arr)\n",
    "print(id(Z))"
   ]
  },
  {
   "cell_type": "code",
   "execution_count": 61,
   "id": "134d75ba-cfe5-4946-b6dd-62577dbd8fb5",
   "metadata": {},
   "outputs": [
    {
     "name": "stdout",
     "output_type": "stream",
     "text": [
      "140595909928264\n"
     ]
    }
   ],
   "source": [
    "Z[:] = arr + brr\n",
    "print(id(Z))"
   ]
  },
  {
   "cell_type": "code",
   "execution_count": 62,
   "id": "cec1ef1a-6c80-4bc9-9e19-77f63d56cb3f",
   "metadata": {},
   "outputs": [
    {
     "data": {
      "text/plain": [
       "True"
      ]
     },
     "execution_count": 62,
     "metadata": {},
     "output_type": "execute_result"
    }
   ],
   "source": [
    "before = id(arr)\n",
    "arr += brr\n",
    "id(arr) == before"
   ]
  },
  {
   "cell_type": "code",
   "execution_count": 64,
   "id": "bcf718b9-3a8a-4302-80fd-d687a383587e",
   "metadata": {},
   "outputs": [
    {
     "data": {
      "text/plain": [
       "(numpy.ndarray, torch.Tensor)"
      ]
     },
     "execution_count": 64,
     "metadata": {},
     "output_type": "execute_result"
    }
   ],
   "source": [
    "A = arr.numpy()\n",
    "B = torch.tensor(A)\n",
    "type(A), type(B)"
   ]
  },
  {
   "cell_type": "code",
   "execution_count": 65,
   "id": "e0b87ed0-383b-43ea-906c-dae4abb13d9f",
   "metadata": {},
   "outputs": [
    {
     "data": {
      "text/plain": [
       "(tensor([3.5000]), 3.5, 3.5, 3)"
      ]
     },
     "execution_count": 65,
     "metadata": {},
     "output_type": "execute_result"
    }
   ],
   "source": [
    "a = torch.tensor([3.5])\n",
    "a, a.item(), float(a), int(a)"
   ]
  },
  {
   "cell_type": "code",
   "execution_count": null,
   "id": "6b8f13ec-136c-4b2f-baec-01f4cac1f588",
   "metadata": {},
   "outputs": [],
   "source": []
  },
  {
   "cell_type": "code",
   "execution_count": null,
   "id": "3aff0eff-d9df-4a1f-9b4b-a6bc7b64e2ac",
   "metadata": {},
   "outputs": [],
   "source": []
  },
  {
   "cell_type": "code",
   "execution_count": null,
   "id": "823e59ad-2204-4390-9922-5e32742792da",
   "metadata": {},
   "outputs": [],
   "source": []
  },
  {
   "cell_type": "code",
   "execution_count": null,
   "id": "1db1da1f-76fa-471d-95ca-75c59fcb6f46",
   "metadata": {},
   "outputs": [],
   "source": []
  },
  {
   "cell_type": "code",
   "execution_count": null,
   "id": "6c8ff885-aca1-4a0a-b6e3-f0fefe8295c0",
   "metadata": {},
   "outputs": [],
   "source": []
  },
  {
   "cell_type": "code",
   "execution_count": 66,
   "id": "371186af-593c-4822-8df9-37f2f80acf37",
   "metadata": {},
   "outputs": [],
   "source": [
    "x = torch.arange(4.0)"
   ]
  },
  {
   "cell_type": "code",
   "execution_count": 67,
   "id": "fc8544dd-1f72-48ee-a87c-4e7c0aa04f01",
   "metadata": {},
   "outputs": [
    {
     "data": {
      "text/plain": [
       "tensor([0., 1., 2., 3.])"
      ]
     },
     "execution_count": 67,
     "metadata": {},
     "output_type": "execute_result"
    }
   ],
   "source": [
    "x"
   ]
  },
  {
   "cell_type": "code",
   "execution_count": 68,
   "id": "e104604c-7b66-404d-a261-daa149af5e08",
   "metadata": {},
   "outputs": [],
   "source": [
    "x.requires_grad_(True)\n",
    "x.grad"
   ]
  },
  {
   "cell_type": "code",
   "execution_count": 69,
   "id": "3b46fcb2-3d58-4678-9873-93262762c828",
   "metadata": {},
   "outputs": [
    {
     "data": {
      "text/plain": [
       "tensor(28., grad_fn=<MulBackward0>)"
      ]
     },
     "execution_count": 69,
     "metadata": {},
     "output_type": "execute_result"
    }
   ],
   "source": [
    "y = 2 * torch.dot(x, x)\n",
    "y"
   ]
  },
  {
   "cell_type": "code",
   "execution_count": 70,
   "id": "11e0fc88-4a5f-4226-b88f-c10e75d406a6",
   "metadata": {},
   "outputs": [
    {
     "data": {
      "text/plain": [
       "tensor([ 0.,  4.,  8., 12.])"
      ]
     },
     "execution_count": 70,
     "metadata": {},
     "output_type": "execute_result"
    }
   ],
   "source": [
    "y.backward()\n",
    "x.grad"
   ]
  },
  {
   "cell_type": "code",
   "execution_count": 71,
   "id": "1badaeab-0ccf-43cb-8738-53e0d9b434ec",
   "metadata": {},
   "outputs": [
    {
     "data": {
      "text/plain": [
       "tensor([True, True, True, True])"
      ]
     },
     "execution_count": 71,
     "metadata": {},
     "output_type": "execute_result"
    }
   ],
   "source": [
    "x.grad == 4 * x"
   ]
  },
  {
   "cell_type": "code",
   "execution_count": 72,
   "id": "c18dda03-f97a-47a0-97e4-ab6628575bc9",
   "metadata": {},
   "outputs": [
    {
     "data": {
      "text/plain": [
       "tensor([0., 0., 0., 0.])"
      ]
     },
     "execution_count": 72,
     "metadata": {},
     "output_type": "execute_result"
    }
   ],
   "source": [
    "x.grad.zero_()"
   ]
  },
  {
   "cell_type": "code",
   "execution_count": 73,
   "id": "3fbeb5cb-d528-4062-8bd9-2c407aa51477",
   "metadata": {},
   "outputs": [],
   "source": [
    "y = x.sum()"
   ]
  },
  {
   "cell_type": "code",
   "execution_count": 74,
   "id": "4b4ad70d-8263-42aa-9b0f-2335b3358076",
   "metadata": {},
   "outputs": [],
   "source": [
    "y.backward()"
   ]
  },
  {
   "cell_type": "code",
   "execution_count": 75,
   "id": "9ed5b98a-cadf-43e5-9423-5db82fe2180c",
   "metadata": {},
   "outputs": [
    {
     "data": {
      "text/plain": [
       "tensor([1., 1., 1., 1.])"
      ]
     },
     "execution_count": 75,
     "metadata": {},
     "output_type": "execute_result"
    }
   ],
   "source": [
    "x.grad"
   ]
  },
  {
   "cell_type": "code",
   "execution_count": null,
   "id": "ca452e2d-cbc9-4c48-9a3e-8527741ad187",
   "metadata": {},
   "outputs": [],
   "source": []
  },
  {
   "cell_type": "code",
   "execution_count": null,
   "id": "3a38fadf-0a66-41c7-bf6c-71300667d3c0",
   "metadata": {},
   "outputs": [],
   "source": []
  },
  {
   "cell_type": "code",
   "execution_count": null,
   "id": "0066fe65-0adc-466f-ad13-0a27ddd63950",
   "metadata": {},
   "outputs": [],
   "source": []
  },
  {
   "cell_type": "code",
   "execution_count": null,
   "id": "6606cdbd-ee55-4290-a64e-00ee75e46559",
   "metadata": {},
   "outputs": [],
   "source": []
  },
  {
   "cell_type": "code",
   "execution_count": 76,
   "id": "6cc090e9-4629-492d-8b61-cee8da9b7f34",
   "metadata": {},
   "outputs": [
    {
     "data": {
      "text/plain": [
       "(tensor([5.]), tensor([1.]), tensor([6.]), tensor([1.5000]), tensor([9.]))"
      ]
     },
     "execution_count": 76,
     "metadata": {},
     "output_type": "execute_result"
    }
   ],
   "source": [
    "x, y = torch.tensor([3.0]), torch.tensor([2.0])\n",
    "x + y, x - y, x * y, x / y, x ** y"
   ]
  },
  {
   "cell_type": "code",
   "execution_count": 77,
   "id": "9cb7a95a-99c4-4e8c-9465-c0169c75bc9b",
   "metadata": {},
   "outputs": [
    {
     "data": {
      "text/plain": [
       "tensor([0, 1, 2, 3])"
      ]
     },
     "execution_count": 77,
     "metadata": {},
     "output_type": "execute_result"
    }
   ],
   "source": [
    "x = torch.arange(4)\n",
    "x"
   ]
  },
  {
   "cell_type": "code",
   "execution_count": 78,
   "id": "f7cf2f53-6d68-4d79-8ade-34a607a1b8ce",
   "metadata": {},
   "outputs": [
    {
     "data": {
      "text/plain": [
       "tensor(3)"
      ]
     },
     "execution_count": 78,
     "metadata": {},
     "output_type": "execute_result"
    }
   ],
   "source": [
    "x[3]"
   ]
  },
  {
   "cell_type": "code",
   "execution_count": 79,
   "id": "fc677711-15b7-4de0-a66f-adf061d9f578",
   "metadata": {},
   "outputs": [
    {
     "data": {
      "text/plain": [
       "4"
      ]
     },
     "execution_count": 79,
     "metadata": {},
     "output_type": "execute_result"
    }
   ],
   "source": [
    "len(x)"
   ]
  },
  {
   "cell_type": "code",
   "execution_count": 80,
   "id": "8e607716-d824-4611-874f-5b60926de72e",
   "metadata": {},
   "outputs": [
    {
     "data": {
      "text/plain": [
       "torch.Size([4])"
      ]
     },
     "execution_count": 80,
     "metadata": {},
     "output_type": "execute_result"
    }
   ],
   "source": [
    "x.shape"
   ]
  },
  {
   "cell_type": "code",
   "execution_count": 81,
   "id": "f939fb48-c30e-4714-96d6-0b13a27373fe",
   "metadata": {},
   "outputs": [],
   "source": [
    "A = torch.arange(20).reshape(5,4)"
   ]
  },
  {
   "cell_type": "code",
   "execution_count": 82,
   "id": "3f753ff0-f020-4f3e-8715-f0ea4d1ae000",
   "metadata": {},
   "outputs": [
    {
     "data": {
      "text/plain": [
       "tensor([[ 0,  1,  2,  3],\n",
       "        [ 4,  5,  6,  7],\n",
       "        [ 8,  9, 10, 11],\n",
       "        [12, 13, 14, 15],\n",
       "        [16, 17, 18, 19]])"
      ]
     },
     "execution_count": 82,
     "metadata": {},
     "output_type": "execute_result"
    }
   ],
   "source": [
    "A"
   ]
  },
  {
   "cell_type": "code",
   "execution_count": 85,
   "id": "a5d8ed22-1121-4cc3-bcba-95da4564cba3",
   "metadata": {},
   "outputs": [
    {
     "data": {
      "text/plain": [
       "tensor([[ 0,  4,  8, 12, 16],\n",
       "        [ 1,  5,  9, 13, 17],\n",
       "        [ 2,  6, 10, 14, 18],\n",
       "        [ 3,  7, 11, 15, 19]])"
      ]
     },
     "execution_count": 85,
     "metadata": {},
     "output_type": "execute_result"
    }
   ],
   "source": [
    "A.T"
   ]
  },
  {
   "cell_type": "code",
   "execution_count": 89,
   "id": "55ae6191-e093-49fc-b748-137dbc43183b",
   "metadata": {},
   "outputs": [
    {
     "data": {
      "text/plain": [
       "(tensor([[1, 2, 3],\n",
       "         [2, 0, 4],\n",
       "         [3, 4, 5]]),\n",
       " tensor([[1, 2, 3],\n",
       "         [2, 0, 4],\n",
       "         [3, 4, 5]]))"
      ]
     },
     "execution_count": 89,
     "metadata": {},
     "output_type": "execute_result"
    }
   ],
   "source": [
    "B = torch.tensor([[1, 2, 3], [2, 0, 4], [3, 4, 5]])\n",
    "B, B.T"
   ]
  },
  {
   "cell_type": "code",
   "execution_count": 88,
   "id": "e929719c-60a9-4d1c-9ef2-7bd97cb6c1c3",
   "metadata": {},
   "outputs": [
    {
     "data": {
      "text/plain": [
       "tensor([[True, True, True],\n",
       "        [True, True, True],\n",
       "        [True, True, True]])"
      ]
     },
     "execution_count": 88,
     "metadata": {},
     "output_type": "execute_result"
    }
   ],
   "source": [
    "B == B.T"
   ]
  },
  {
   "cell_type": "code",
   "execution_count": 90,
   "id": "ccbe4d1a-ff15-4f54-81cf-96dbe71a5f15",
   "metadata": {},
   "outputs": [],
   "source": [
    "X = torch.arange(24).reshape(2, 3, 4)"
   ]
  },
  {
   "cell_type": "code",
   "execution_count": 91,
   "id": "11e4bb34-c595-416f-ae0a-9f7a7ab065e7",
   "metadata": {},
   "outputs": [
    {
     "data": {
      "text/plain": [
       "tensor([[[ 0,  1,  2,  3],\n",
       "         [ 4,  5,  6,  7],\n",
       "         [ 8,  9, 10, 11]],\n",
       "\n",
       "        [[12, 13, 14, 15],\n",
       "         [16, 17, 18, 19],\n",
       "         [20, 21, 22, 23]]])"
      ]
     },
     "execution_count": 91,
     "metadata": {},
     "output_type": "execute_result"
    }
   ],
   "source": [
    "X"
   ]
  },
  {
   "cell_type": "code",
   "execution_count": 92,
   "id": "33c765b2-a352-416e-8285-492ed791c318",
   "metadata": {},
   "outputs": [],
   "source": [
    "A = torch.arange(20, dtype = torch.float64).reshape(5, 4)\n",
    "B = A.clone()"
   ]
  },
  {
   "cell_type": "code",
   "execution_count": 93,
   "id": "338c76b0-b189-411e-9ed1-5db69da06e44",
   "metadata": {},
   "outputs": [
    {
     "data": {
      "text/plain": [
       "(tensor([[ 0.,  1.,  2.,  3.],\n",
       "         [ 4.,  5.,  6.,  7.],\n",
       "         [ 8.,  9., 10., 11.],\n",
       "         [12., 13., 14., 15.],\n",
       "         [16., 17., 18., 19.]], dtype=torch.float64),\n",
       " tensor([[ 0.,  2.,  4.,  6.],\n",
       "         [ 8., 10., 12., 14.],\n",
       "         [16., 18., 20., 22.],\n",
       "         [24., 26., 28., 30.],\n",
       "         [32., 34., 36., 38.]], dtype=torch.float64))"
      ]
     },
     "execution_count": 93,
     "metadata": {},
     "output_type": "execute_result"
    }
   ],
   "source": [
    "A, A + B"
   ]
  },
  {
   "cell_type": "code",
   "execution_count": 96,
   "id": "5f4828e1-a5e8-41c3-8ecb-5b7c8534c45f",
   "metadata": {},
   "outputs": [
    {
     "data": {
      "text/plain": [
       "tensor([[  0.,   1.,   4.,   9.],\n",
       "        [ 16.,  25.,  36.,  49.],\n",
       "        [ 64.,  81., 100., 121.],\n",
       "        [144., 169., 196., 225.],\n",
       "        [256., 289., 324., 361.]], dtype=torch.float64)"
      ]
     },
     "execution_count": 96,
     "metadata": {},
     "output_type": "execute_result"
    }
   ],
   "source": [
    "A * B #对应乘积"
   ]
  },
  {
   "cell_type": "code",
   "execution_count": 97,
   "id": "1d91bf5e-6237-425b-ba00-543436803270",
   "metadata": {},
   "outputs": [
    {
     "data": {
      "text/plain": [
       "(tensor([0., 1., 2., 3.], dtype=torch.float64),\n",
       " tensor(6., dtype=torch.float64))"
      ]
     },
     "execution_count": 97,
     "metadata": {},
     "output_type": "execute_result"
    }
   ],
   "source": [
    "x = torch.arange(4, dtype = torch.float64)\n",
    "x, x.sum()"
   ]
  },
  {
   "cell_type": "code",
   "execution_count": 100,
   "id": "7646be56-5ab0-45d9-88eb-0b979022b02d",
   "metadata": {},
   "outputs": [
    {
     "data": {
      "text/plain": [
       "(tensor([[ 0.,  1.,  2.,  3.],\n",
       "         [ 4.,  5.,  6.,  7.],\n",
       "         [ 8.,  9., 10., 11.],\n",
       "         [12., 13., 14., 15.],\n",
       "         [16., 17., 18., 19.]], dtype=torch.float64),\n",
       " torch.Size([5, 4]),\n",
       " tensor(190., dtype=torch.float64))"
      ]
     },
     "execution_count": 100,
     "metadata": {},
     "output_type": "execute_result"
    }
   ],
   "source": [
    "A, A.shape, A.sum()"
   ]
  },
  {
   "cell_type": "code",
   "execution_count": 104,
   "id": "5d9b3440-9052-47ae-8eb1-58061e1257b1",
   "metadata": {},
   "outputs": [
    {
     "data": {
      "text/plain": [
       "(tensor([40., 45., 50., 55.], dtype=torch.float64), torch.Size([4]))"
      ]
     },
     "execution_count": 104,
     "metadata": {},
     "output_type": "execute_result"
    }
   ],
   "source": [
    "A_sum_axis0 = A.sum(axis = 0) # row\n",
    "A_sum_axis0, A_sum_axis0.shape"
   ]
  },
  {
   "cell_type": "code",
   "execution_count": 105,
   "id": "83921d09-bc2a-4602-ac22-c6421044bcdc",
   "metadata": {},
   "outputs": [
    {
     "data": {
      "text/plain": [
       "(tensor([ 6., 22., 38., 54., 70.], dtype=torch.float64), torch.Size([5]))"
      ]
     },
     "execution_count": 105,
     "metadata": {},
     "output_type": "execute_result"
    }
   ],
   "source": [
    "A_sum_axis1 = A.sum(axis = 1) # col\n",
    "A_sum_axis1, A_sum_axis1.shape"
   ]
  },
  {
   "cell_type": "code",
   "execution_count": 109,
   "id": "ad689705-34d3-411e-85af-ce5a0db0b8c6",
   "metadata": {},
   "outputs": [
    {
     "data": {
      "text/plain": [
       "(tensor(190., dtype=torch.float64), torch.Size([]))"
      ]
     },
     "execution_count": 109,
     "metadata": {},
     "output_type": "execute_result"
    }
   ],
   "source": [
    "A_sum_axis0_sum_axis1 = A_sum_axis0.sum(axis = 0) # row&col--> [0] same as A.sum()\n",
    "A_sum_axis0_sum_axis1, A_sum_axis0_sum_axis1.shape"
   ]
  },
  {
   "cell_type": "code",
   "execution_count": 110,
   "id": "29b33078-07ff-4a7e-811b-0d7a638125f2",
   "metadata": {},
   "outputs": [
    {
     "data": {
      "text/plain": [
       "(tensor(9.5000, dtype=torch.float64), tensor(9.5000, dtype=torch.float64))"
      ]
     },
     "execution_count": 110,
     "metadata": {},
     "output_type": "execute_result"
    }
   ],
   "source": [
    "A.mean(), A.sum() / A.numel()"
   ]
  },
  {
   "cell_type": "code",
   "execution_count": 111,
   "id": "aa8e99fc-4711-4042-9e0f-fe3e40b1f226",
   "metadata": {},
   "outputs": [
    {
     "data": {
      "text/plain": [
       "tensor([[ 6.],\n",
       "        [22.],\n",
       "        [38.],\n",
       "        [54.],\n",
       "        [70.]], dtype=torch.float64)"
      ]
     },
     "execution_count": 111,
     "metadata": {},
     "output_type": "execute_result"
    }
   ],
   "source": [
    "sum_A = A.sum(axis = 1, keepdims = True)\n",
    "sum_A"
   ]
  },
  {
   "cell_type": "code",
   "execution_count": 112,
   "id": "cc326254-e440-4b62-80fe-b4900825c4b4",
   "metadata": {},
   "outputs": [
    {
     "data": {
      "text/plain": [
       "tensor([[0.0000, 0.1667, 0.3333, 0.5000],\n",
       "        [0.1818, 0.2273, 0.2727, 0.3182],\n",
       "        [0.2105, 0.2368, 0.2632, 0.2895],\n",
       "        [0.2222, 0.2407, 0.2593, 0.2778],\n",
       "        [0.2286, 0.2429, 0.2571, 0.2714]], dtype=torch.float64)"
      ]
     },
     "execution_count": 112,
     "metadata": {},
     "output_type": "execute_result"
    }
   ],
   "source": [
    "A / sum_A"
   ]
  },
  {
   "cell_type": "code",
   "execution_count": 114,
   "id": "b56e8083-e48c-43d2-b108-8e7cddb09aa3",
   "metadata": {},
   "outputs": [
    {
     "data": {
      "text/plain": [
       "(tensor([[ 0.,  1.,  2.,  3.],\n",
       "         [ 4.,  5.,  6.,  7.],\n",
       "         [ 8.,  9., 10., 11.],\n",
       "         [12., 13., 14., 15.],\n",
       "         [16., 17., 18., 19.]], dtype=torch.float64),\n",
       " tensor([[ 0.,  1.,  2.,  3.],\n",
       "         [ 4.,  6.,  8., 10.],\n",
       "         [12., 15., 18., 21.],\n",
       "         [24., 28., 32., 36.],\n",
       "         [40., 45., 50., 55.]], dtype=torch.float64))"
      ]
     },
     "execution_count": 114,
     "metadata": {},
     "output_type": "execute_result"
    }
   ],
   "source": [
    "A, A.cumsum(axis=0)"
   ]
  },
  {
   "cell_type": "code",
   "execution_count": 115,
   "id": "ebc8cbb5-76cc-4897-a74e-1087cb472d0b",
   "metadata": {},
   "outputs": [
    {
     "data": {
      "text/plain": [
       "(tensor([0., 1., 2., 3.], dtype=torch.float64),\n",
       " tensor([1., 1., 1., 1.], dtype=torch.float64),\n",
       " tensor(6., dtype=torch.float64))"
      ]
     },
     "execution_count": 115,
     "metadata": {},
     "output_type": "execute_result"
    }
   ],
   "source": [
    "y = torch.ones(4, dtype = torch.float64)\n",
    "x, y, torch.dot(x, y)"
   ]
  },
  {
   "cell_type": "code",
   "execution_count": 116,
   "id": "2554bc1d-256d-429f-9b63-eda31769e213",
   "metadata": {},
   "outputs": [
    {
     "data": {
      "text/plain": [
       "tensor(6., dtype=torch.float64)"
      ]
     },
     "execution_count": 116,
     "metadata": {},
     "output_type": "execute_result"
    }
   ],
   "source": [
    "torch.sum(x * y)"
   ]
  },
  {
   "cell_type": "code",
   "execution_count": null,
   "id": "6a1c824e-3a8e-47ed-a7e2-3d9a3e9100f3",
   "metadata": {},
   "outputs": [],
   "source": []
  }
 ],
 "metadata": {
  "kernelspec": {
   "display_name": "Python 3",
   "language": "python",
   "name": "python3"
  },
  "language_info": {
   "codemirror_mode": {
    "name": "ipython",
    "version": 3
   },
   "file_extension": ".py",
   "mimetype": "text/x-python",
   "name": "python",
   "nbconvert_exporter": "python",
   "pygments_lexer": "ipython3",
   "version": "3.6.9"
  }
 },
 "nbformat": 4,
 "nbformat_minor": 5
}
